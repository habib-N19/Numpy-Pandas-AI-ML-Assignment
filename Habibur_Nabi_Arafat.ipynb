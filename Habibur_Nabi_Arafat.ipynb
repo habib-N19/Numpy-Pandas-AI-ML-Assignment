{
  "nbformat": 4,
  "nbformat_minor": 0,
  "metadata": {
    "colab": {
      "provenance": [],
      "authorship_tag": "ABX9TyM6P3tSKYSvshJ+M5XF0CiV",
      "include_colab_link": true
    },
    "kernelspec": {
      "name": "python3",
      "display_name": "Python 3"
    },
    "language_info": {
      "name": "python"
    }
  },
  "cells": [
    {
      "cell_type": "markdown",
      "metadata": {
        "id": "view-in-github",
        "colab_type": "text"
      },
      "source": [
        "<a href=\"https://colab.research.google.com/github/habib-N19/Numpy-Pandas-AI-ML-Assignment/blob/main/Habibur_Nabi_Arafat.ipynb\" target=\"_parent\"><img src=\"https://colab.research.google.com/assets/colab-badge.svg\" alt=\"Open In Colab\"/></a>"
      ]
    },
    {
      "cell_type": "markdown",
      "source": [
        "**Course Email: habiburnabiarafat@gmail.com**"
      ],
      "metadata": {
        "id": "zpiv80oNHRzY"
      }
    },
    {
      "cell_type": "code",
      "source": [
        "# You must run this code and use that data set for all the questions\n",
        "import numpy as np\n",
        "import pandas as pd\n",
        "\n",
        "np.random.seed(42)\n",
        "\n",
        "ids = np.arange(1, 11)\n",
        "ages = np.random.randint(18, 60, 10)\n",
        "salaries = np.random.randint(30000, 90000, 10)\n",
        "departments = np.array([\"HR\", \"IT\", \"Finance\", \"IT\", \"HR\", \"Sales\", \"Finance\", \"IT\", \"Sales\", \"HR\"])\n",
        "\n",
        "DF = pd.DataFrame({\n",
        "\"id\": ids,\n",
        "\"age\": ages,\n",
        "\"salary\": salaries,\n",
        "\"dept\": departments\n",
        "})\n",
        "\n",
        "DF.to_csv(\"employees.csv\", index=False)\n",
        "print(\"Sample Data Created and Saved as employees.csv\")\n"
      ],
      "metadata": {
        "colab": {
          "base_uri": "https://localhost:8080/"
        },
        "id": "mwuGkDHJHbkY",
        "outputId": "f885a3de-ee12-4404-dcf0-f319fa2b0419"
      },
      "execution_count": null,
      "outputs": [
        {
          "output_type": "stream",
          "name": "stdout",
          "text": [
            "Sample Data Created and Saved as employees.csv\n"
          ]
        }
      ]
    },
    {
      "cell_type": "markdown",
      "source": [
        "## Ans to the Q1:\n",
        "Create NumPy arrays from the ages and salaries data generated above. Print both arrays and display their dtype, ndim, shape, and size."
      ],
      "metadata": {
        "id": "BKY6gXZaHimY"
      }
    },
    {
      "cell_type": "code",
      "source": [
        "np_ages_arr = np.array(ages)\n",
        "print(np_ages_arr.dtype)\n",
        "print(np_ages_arr.shape)\n",
        "print(np_ages_arr.ndim)\n",
        "print(np_ages_arr.size)\n",
        "\n",
        "np_salaries_arr=np.array(salaries)\n",
        "print(np_salaries_arr.dtype)\n",
        "print(np_salaries_arr.shape)\n",
        "print(np_salaries_arr.ndim)\n",
        "print(np_salaries_arr.size)"
      ],
      "metadata": {
        "colab": {
          "base_uri": "https://localhost:8080/"
        },
        "id": "_gF1JNdlHnVw",
        "outputId": "f641f63f-098b-4976-879a-cc91d7dfeca4"
      },
      "execution_count": null,
      "outputs": [
        {
          "output_type": "stream",
          "name": "stdout",
          "text": [
            "int64\n",
            "(10,)\n",
            "1\n",
            "10\n",
            "int64\n",
            "(10,)\n",
            "1\n",
            "10\n"
          ]
        }
      ]
    },
    {
      "cell_type": "markdown",
      "source": [
        "### Ans to the Q2:\n",
        "Using the salaries array, find and print the highest and lowest salary values. Also, calculate and print the average salary and age using NumPy functions."
      ],
      "metadata": {
        "id": "_O9MuvZM_f2D"
      }
    },
    {
      "cell_type": "code",
      "source": [
        "max_salary=salaries.max()\n",
        "print(f'Max salary is: {max_salary}')\n",
        "min_salary = salaries.min()\n",
        "print(f'Min salary is: {min_salary}')\n",
        "avg_salary=salaries.mean()\n",
        "print(f'Average salary is: {avg_salary}')\n",
        "\n",
        "# avg age\n",
        "avg_age=ages.mean()\n",
        "print(f'Average age is:- {avg_age}')\n",
        "\n"
      ],
      "metadata": {
        "colab": {
          "base_uri": "https://localhost:8080/"
        },
        "id": "ABRbajBU_t0j",
        "outputId": "c69619df-3639-4886-cb3c-12b2ae4e98f0"
      },
      "execution_count": null,
      "outputs": [
        {
          "output_type": "stream",
          "name": "stdout",
          "text": [
            "Max salary is: 89735\n",
            "Min salary is: 30769\n",
            "Average salary is: 57446.9\n",
            "Average age is:- 38.5\n"
          ]
        }
      ]
    },
    {
      "cell_type": "markdown",
      "source": [
        "## Ans to the Q3\n",
        "From the ages array, filter and print all ages greater than 30 using a boolean condition. Then count and print how many employees are older than 30."
      ],
      "metadata": {
        "id": "9mDb3v48BXCR"
      }
    },
    {
      "cell_type": "code",
      "source": [
        "older_persons= ages[ages > 30]\n",
        "print(older_persons)\n",
        "#count older than 30 ages persons amount\n",
        "count_older_30=np.count_nonzero(ages > 30)\n",
        "print(count_older_30)"
      ],
      "metadata": {
        "colab": {
          "base_uri": "https://localhost:8080/"
        },
        "id": "f6x0guZ8BgVR",
        "outputId": "65756bc5-3157-435b-93ea-8b0ef78cc072"
      },
      "execution_count": null,
      "outputs": [
        {
          "output_type": "stream",
          "name": "stdout",
          "text": [
            "[56 46 32 38 56 36 40]\n",
            "7\n"
          ]
        }
      ]
    },
    {
      "cell_type": "markdown",
      "source": [
        "### Ans to the Q4:\n",
        "Create a new NumPy array that increases every employee’s age by 5 years (without modifying the original array). Print the new updated ages array."
      ],
      "metadata": {
        "id": "8ch0_BEWEOhR"
      }
    },
    {
      "cell_type": "code",
      "source": [
        "new_increased_arr = ages + 5\n",
        "print(new_increased_arr)\n"
      ],
      "metadata": {
        "colab": {
          "base_uri": "https://localhost:8080/"
        },
        "id": "qBXCDzPSEVFH",
        "outputId": "ea76b21b-5086-4570-d18f-676ad22dd88c"
      },
      "execution_count": null,
      "outputs": [
        {
          "output_type": "stream",
          "name": "stdout",
          "text": [
            "[61 51 37 30 43 61 41 45 33 33]\n"
          ]
        }
      ]
    },
    {
      "cell_type": "markdown",
      "source": [
        "## Ans to the Q5:\n",
        "Using NumPy, calculate the total salary expense (sum of all salaries) and the difference between the maximum and minimum salary. Print both results."
      ],
      "metadata": {
        "id": "2agfyZ42FOja"
      }
    },
    {
      "cell_type": "code",
      "source": [
        "sum_of_all_salaries = np.sum(salaries)\n",
        "print(f\"Total salary expense: {sum_of_all_salaries}\")\n",
        "min_salary=np.min(salaries)\n",
        "max_salary=np.max(salaries)\n",
        "diff=max_salary - min_salary\n",
        "print(f'The difference betwen maximum salary and minimum salary is : {diff}', )"
      ],
      "metadata": {
        "colab": {
          "base_uri": "https://localhost:8080/"
        },
        "id": "lmzrmLz4FVIx",
        "outputId": "6aef0141-66fd-4962-f2c1-b77607b5ad9b"
      },
      "execution_count": null,
      "outputs": [
        {
          "output_type": "stream",
          "name": "stdout",
          "text": [
            "Total salary expense: 574469\n",
            "The difference betwen maximum salary and minimum salary is : 58966\n"
          ]
        }
      ]
    },
    {
      "cell_type": "markdown",
      "source": [
        "### Ans to the Q6\n",
        " Load the employees.csv file into a Pandas DataFrame. Display the first 5 rows, and check basic info using info() and summary statistics using describe()."
      ],
      "metadata": {
        "id": "NNUUHrOkIHwH"
      }
    },
    {
      "cell_type": "code",
      "source": [
        "employees = pd.read_csv('employees.csv')\n",
        "# print(employees)\n",
        "first_5_row = employees.head(5)\n",
        "print(first_5_row)\n",
        "\n",
        "#check basic info\n",
        "print('Basic Info')\n",
        "employees.info()\n",
        "\n",
        "print('summary')\n",
        "employees.describe()\n"
      ],
      "metadata": {
        "id": "XYMJDmcoI74P",
        "colab": {
          "base_uri": "https://localhost:8080/",
          "height": 630
        },
        "outputId": "3a8deac9-a731-4aac-d59e-598a4f5783a6"
      },
      "execution_count": null,
      "outputs": [
        {
          "output_type": "stream",
          "name": "stdout",
          "text": [
            "   id  age  salary     dept\n",
            "0   1   56   77191       HR\n",
            "1   2   46   74131       IT\n",
            "2   3   32   46023  Finance\n",
            "3   4   25   71090       IT\n",
            "4   5   38   31685       HR\n",
            "Basic Info\n",
            "<class 'pandas.core.frame.DataFrame'>\n",
            "RangeIndex: 10 entries, 0 to 9\n",
            "Data columns (total 4 columns):\n",
            " #   Column  Non-Null Count  Dtype \n",
            "---  ------  --------------  ----- \n",
            " 0   id      10 non-null     int64 \n",
            " 1   age     10 non-null     int64 \n",
            " 2   salary  10 non-null     int64 \n",
            " 3   dept    10 non-null     object\n",
            "dtypes: int64(3), object(1)\n",
            "memory usage: 452.0+ bytes\n",
            "summary\n"
          ]
        },
        {
          "output_type": "execute_result",
          "data": {
            "text/plain": [
              "             id       age        salary\n",
              "count  10.00000  10.00000     10.000000\n",
              "mean    5.50000  38.50000  57446.900000\n",
              "std     3.02765  11.16791  24357.262884\n",
              "min     1.00000  25.00000  30769.000000\n",
              "25%     3.25000  29.00000  33152.500000\n",
              "50%     5.50000  37.00000  58556.500000\n",
              "75%     7.75000  44.50000  76426.000000\n",
              "max    10.00000  56.00000  89735.000000"
            ],
            "text/html": [
              "\n",
              "  <div id=\"df-57bdfa12-f1f2-48d7-ac0d-aee84d9f9259\" class=\"colab-df-container\">\n",
              "    <div>\n",
              "<style scoped>\n",
              "    .dataframe tbody tr th:only-of-type {\n",
              "        vertical-align: middle;\n",
              "    }\n",
              "\n",
              "    .dataframe tbody tr th {\n",
              "        vertical-align: top;\n",
              "    }\n",
              "\n",
              "    .dataframe thead th {\n",
              "        text-align: right;\n",
              "    }\n",
              "</style>\n",
              "<table border=\"1\" class=\"dataframe\">\n",
              "  <thead>\n",
              "    <tr style=\"text-align: right;\">\n",
              "      <th></th>\n",
              "      <th>id</th>\n",
              "      <th>age</th>\n",
              "      <th>salary</th>\n",
              "    </tr>\n",
              "  </thead>\n",
              "  <tbody>\n",
              "    <tr>\n",
              "      <th>count</th>\n",
              "      <td>10.00000</td>\n",
              "      <td>10.00000</td>\n",
              "      <td>10.000000</td>\n",
              "    </tr>\n",
              "    <tr>\n",
              "      <th>mean</th>\n",
              "      <td>5.50000</td>\n",
              "      <td>38.50000</td>\n",
              "      <td>57446.900000</td>\n",
              "    </tr>\n",
              "    <tr>\n",
              "      <th>std</th>\n",
              "      <td>3.02765</td>\n",
              "      <td>11.16791</td>\n",
              "      <td>24357.262884</td>\n",
              "    </tr>\n",
              "    <tr>\n",
              "      <th>min</th>\n",
              "      <td>1.00000</td>\n",
              "      <td>25.00000</td>\n",
              "      <td>30769.000000</td>\n",
              "    </tr>\n",
              "    <tr>\n",
              "      <th>25%</th>\n",
              "      <td>3.25000</td>\n",
              "      <td>29.00000</td>\n",
              "      <td>33152.500000</td>\n",
              "    </tr>\n",
              "    <tr>\n",
              "      <th>50%</th>\n",
              "      <td>5.50000</td>\n",
              "      <td>37.00000</td>\n",
              "      <td>58556.500000</td>\n",
              "    </tr>\n",
              "    <tr>\n",
              "      <th>75%</th>\n",
              "      <td>7.75000</td>\n",
              "      <td>44.50000</td>\n",
              "      <td>76426.000000</td>\n",
              "    </tr>\n",
              "    <tr>\n",
              "      <th>max</th>\n",
              "      <td>10.00000</td>\n",
              "      <td>56.00000</td>\n",
              "      <td>89735.000000</td>\n",
              "    </tr>\n",
              "  </tbody>\n",
              "</table>\n",
              "</div>\n",
              "    <div class=\"colab-df-buttons\">\n",
              "\n",
              "  <div class=\"colab-df-container\">\n",
              "    <button class=\"colab-df-convert\" onclick=\"convertToInteractive('df-57bdfa12-f1f2-48d7-ac0d-aee84d9f9259')\"\n",
              "            title=\"Convert this dataframe to an interactive table.\"\n",
              "            style=\"display:none;\">\n",
              "\n",
              "  <svg xmlns=\"http://www.w3.org/2000/svg\" height=\"24px\" viewBox=\"0 -960 960 960\">\n",
              "    <path d=\"M120-120v-720h720v720H120Zm60-500h600v-160H180v160Zm220 220h160v-160H400v160Zm0 220h160v-160H400v160ZM180-400h160v-160H180v160Zm440 0h160v-160H620v160ZM180-180h160v-160H180v160Zm440 0h160v-160H620v160Z\"/>\n",
              "  </svg>\n",
              "    </button>\n",
              "\n",
              "  <style>\n",
              "    .colab-df-container {\n",
              "      display:flex;\n",
              "      gap: 12px;\n",
              "    }\n",
              "\n",
              "    .colab-df-convert {\n",
              "      background-color: #E8F0FE;\n",
              "      border: none;\n",
              "      border-radius: 50%;\n",
              "      cursor: pointer;\n",
              "      display: none;\n",
              "      fill: #1967D2;\n",
              "      height: 32px;\n",
              "      padding: 0 0 0 0;\n",
              "      width: 32px;\n",
              "    }\n",
              "\n",
              "    .colab-df-convert:hover {\n",
              "      background-color: #E2EBFA;\n",
              "      box-shadow: 0px 1px 2px rgba(60, 64, 67, 0.3), 0px 1px 3px 1px rgba(60, 64, 67, 0.15);\n",
              "      fill: #174EA6;\n",
              "    }\n",
              "\n",
              "    .colab-df-buttons div {\n",
              "      margin-bottom: 4px;\n",
              "    }\n",
              "\n",
              "    [theme=dark] .colab-df-convert {\n",
              "      background-color: #3B4455;\n",
              "      fill: #D2E3FC;\n",
              "    }\n",
              "\n",
              "    [theme=dark] .colab-df-convert:hover {\n",
              "      background-color: #434B5C;\n",
              "      box-shadow: 0px 1px 3px 1px rgba(0, 0, 0, 0.15);\n",
              "      filter: drop-shadow(0px 1px 2px rgba(0, 0, 0, 0.3));\n",
              "      fill: #FFFFFF;\n",
              "    }\n",
              "  </style>\n",
              "\n",
              "    <script>\n",
              "      const buttonEl =\n",
              "        document.querySelector('#df-57bdfa12-f1f2-48d7-ac0d-aee84d9f9259 button.colab-df-convert');\n",
              "      buttonEl.style.display =\n",
              "        google.colab.kernel.accessAllowed ? 'block' : 'none';\n",
              "\n",
              "      async function convertToInteractive(key) {\n",
              "        const element = document.querySelector('#df-57bdfa12-f1f2-48d7-ac0d-aee84d9f9259');\n",
              "        const dataTable =\n",
              "          await google.colab.kernel.invokeFunction('convertToInteractive',\n",
              "                                                    [key], {});\n",
              "        if (!dataTable) return;\n",
              "\n",
              "        const docLinkHtml = 'Like what you see? Visit the ' +\n",
              "          '<a target=\"_blank\" href=https://colab.research.google.com/notebooks/data_table.ipynb>data table notebook</a>'\n",
              "          + ' to learn more about interactive tables.';\n",
              "        element.innerHTML = '';\n",
              "        dataTable['output_type'] = 'display_data';\n",
              "        await google.colab.output.renderOutput(dataTable, element);\n",
              "        const docLink = document.createElement('div');\n",
              "        docLink.innerHTML = docLinkHtml;\n",
              "        element.appendChild(docLink);\n",
              "      }\n",
              "    </script>\n",
              "  </div>\n",
              "\n",
              "\n",
              "    <div id=\"df-2ac92459-b15c-4285-8621-31d6abfddd2e\">\n",
              "      <button class=\"colab-df-quickchart\" onclick=\"quickchart('df-2ac92459-b15c-4285-8621-31d6abfddd2e')\"\n",
              "                title=\"Suggest charts\"\n",
              "                style=\"display:none;\">\n",
              "\n",
              "<svg xmlns=\"http://www.w3.org/2000/svg\" height=\"24px\"viewBox=\"0 0 24 24\"\n",
              "     width=\"24px\">\n",
              "    <g>\n",
              "        <path d=\"M19 3H5c-1.1 0-2 .9-2 2v14c0 1.1.9 2 2 2h14c1.1 0 2-.9 2-2V5c0-1.1-.9-2-2-2zM9 17H7v-7h2v7zm4 0h-2V7h2v10zm4 0h-2v-4h2v4z\"/>\n",
              "    </g>\n",
              "</svg>\n",
              "      </button>\n",
              "\n",
              "<style>\n",
              "  .colab-df-quickchart {\n",
              "      --bg-color: #E8F0FE;\n",
              "      --fill-color: #1967D2;\n",
              "      --hover-bg-color: #E2EBFA;\n",
              "      --hover-fill-color: #174EA6;\n",
              "      --disabled-fill-color: #AAA;\n",
              "      --disabled-bg-color: #DDD;\n",
              "  }\n",
              "\n",
              "  [theme=dark] .colab-df-quickchart {\n",
              "      --bg-color: #3B4455;\n",
              "      --fill-color: #D2E3FC;\n",
              "      --hover-bg-color: #434B5C;\n",
              "      --hover-fill-color: #FFFFFF;\n",
              "      --disabled-bg-color: #3B4455;\n",
              "      --disabled-fill-color: #666;\n",
              "  }\n",
              "\n",
              "  .colab-df-quickchart {\n",
              "    background-color: var(--bg-color);\n",
              "    border: none;\n",
              "    border-radius: 50%;\n",
              "    cursor: pointer;\n",
              "    display: none;\n",
              "    fill: var(--fill-color);\n",
              "    height: 32px;\n",
              "    padding: 0;\n",
              "    width: 32px;\n",
              "  }\n",
              "\n",
              "  .colab-df-quickchart:hover {\n",
              "    background-color: var(--hover-bg-color);\n",
              "    box-shadow: 0 1px 2px rgba(60, 64, 67, 0.3), 0 1px 3px 1px rgba(60, 64, 67, 0.15);\n",
              "    fill: var(--button-hover-fill-color);\n",
              "  }\n",
              "\n",
              "  .colab-df-quickchart-complete:disabled,\n",
              "  .colab-df-quickchart-complete:disabled:hover {\n",
              "    background-color: var(--disabled-bg-color);\n",
              "    fill: var(--disabled-fill-color);\n",
              "    box-shadow: none;\n",
              "  }\n",
              "\n",
              "  .colab-df-spinner {\n",
              "    border: 2px solid var(--fill-color);\n",
              "    border-color: transparent;\n",
              "    border-bottom-color: var(--fill-color);\n",
              "    animation:\n",
              "      spin 1s steps(1) infinite;\n",
              "  }\n",
              "\n",
              "  @keyframes spin {\n",
              "    0% {\n",
              "      border-color: transparent;\n",
              "      border-bottom-color: var(--fill-color);\n",
              "      border-left-color: var(--fill-color);\n",
              "    }\n",
              "    20% {\n",
              "      border-color: transparent;\n",
              "      border-left-color: var(--fill-color);\n",
              "      border-top-color: var(--fill-color);\n",
              "    }\n",
              "    30% {\n",
              "      border-color: transparent;\n",
              "      border-left-color: var(--fill-color);\n",
              "      border-top-color: var(--fill-color);\n",
              "      border-right-color: var(--fill-color);\n",
              "    }\n",
              "    40% {\n",
              "      border-color: transparent;\n",
              "      border-right-color: var(--fill-color);\n",
              "      border-top-color: var(--fill-color);\n",
              "    }\n",
              "    60% {\n",
              "      border-color: transparent;\n",
              "      border-right-color: var(--fill-color);\n",
              "    }\n",
              "    80% {\n",
              "      border-color: transparent;\n",
              "      border-right-color: var(--fill-color);\n",
              "      border-bottom-color: var(--fill-color);\n",
              "    }\n",
              "    90% {\n",
              "      border-color: transparent;\n",
              "      border-bottom-color: var(--fill-color);\n",
              "    }\n",
              "  }\n",
              "</style>\n",
              "\n",
              "      <script>\n",
              "        async function quickchart(key) {\n",
              "          const quickchartButtonEl =\n",
              "            document.querySelector('#' + key + ' button');\n",
              "          quickchartButtonEl.disabled = true;  // To prevent multiple clicks.\n",
              "          quickchartButtonEl.classList.add('colab-df-spinner');\n",
              "          try {\n",
              "            const charts = await google.colab.kernel.invokeFunction(\n",
              "                'suggestCharts', [key], {});\n",
              "          } catch (error) {\n",
              "            console.error('Error during call to suggestCharts:', error);\n",
              "          }\n",
              "          quickchartButtonEl.classList.remove('colab-df-spinner');\n",
              "          quickchartButtonEl.classList.add('colab-df-quickchart-complete');\n",
              "        }\n",
              "        (() => {\n",
              "          let quickchartButtonEl =\n",
              "            document.querySelector('#df-2ac92459-b15c-4285-8621-31d6abfddd2e button');\n",
              "          quickchartButtonEl.style.display =\n",
              "            google.colab.kernel.accessAllowed ? 'block' : 'none';\n",
              "        })();\n",
              "      </script>\n",
              "    </div>\n",
              "\n",
              "    </div>\n",
              "  </div>\n"
            ],
            "application/vnd.google.colaboratory.intrinsic+json": {
              "type": "dataframe",
              "summary": "{\n  \"name\": \"employees\",\n  \"rows\": 8,\n  \"fields\": [\n    {\n      \"column\": \"id\",\n      \"properties\": {\n        \"dtype\": \"number\",\n        \"std\": 3.3052683493128554,\n        \"min\": 1.0,\n        \"max\": 10.0,\n        \"num_unique_values\": 6,\n        \"samples\": [\n          10.0,\n          5.5,\n          7.75\n        ],\n        \"semantic_type\": \"\",\n        \"description\": \"\"\n      }\n    },\n    {\n      \"column\": \"age\",\n      \"properties\": {\n        \"dtype\": \"number\",\n        \"std\": 15.912965610893734,\n        \"min\": 10.0,\n        \"max\": 56.0,\n        \"num_unique_values\": 8,\n        \"samples\": [\n          38.5,\n          37.0,\n          10.0\n        ],\n        \"semantic_type\": \"\",\n        \"description\": \"\"\n      }\n    },\n    {\n      \"column\": \"salary\",\n      \"properties\": {\n        \"dtype\": \"number\",\n        \"std\": 29536.82072299299,\n        \"min\": 10.0,\n        \"max\": 89735.0,\n        \"num_unique_values\": 8,\n        \"samples\": [\n          57446.9,\n          58556.5,\n          10.0\n        ],\n        \"semantic_type\": \"\",\n        \"description\": \"\"\n      }\n    }\n  ]\n}"
            }
          },
          "metadata": {},
          "execution_count": 84
        }
      ]
    },
    {
      "cell_type": "markdown",
      "source": [
        "## Ans To Q7:\n",
        " Display only the id, age, and salary columns. Then show the last 3 rows using tail().\n"
      ],
      "metadata": {
        "id": "kuGbmWWRMUn6"
      }
    },
    {
      "cell_type": "code",
      "source": [
        "id_age_salary_df= employees.loc[:, ['id', 'age', 'salary'] ]\n",
        "print(id_age_salary_df)\n",
        "\n",
        "last_3_row=employees.tail(3)\n",
        "print(f'last 3 row:\\n{last_3_row}')"
      ],
      "metadata": {
        "colab": {
          "base_uri": "https://localhost:8080/"
        },
        "id": "YcShe-d4MYkB",
        "outputId": "f9105fa2-0f4c-4f1d-d39d-4a9f08e07313"
      },
      "execution_count": null,
      "outputs": [
        {
          "output_type": "stream",
          "name": "stdout",
          "text": [
            "   id  age  salary\n",
            "0   1   56   77191\n",
            "1   2   46   74131\n",
            "2   3   32   46023\n",
            "3   4   25   71090\n",
            "4   5   38   31685\n",
            "5   6   56   30769\n",
            "6   7   36   89735\n",
            "7   8   40   86101\n",
            "8   9   28   32433\n",
            "9  10   28   35311\n",
            "last 3 row:\n",
            "   id  age  salary   dept\n",
            "7   8   40   86101     IT\n",
            "8   9   28   32433  Sales\n",
            "9  10   28   35311     HR\n"
          ]
        }
      ]
    },
    {
      "cell_type": "markdown",
      "source": [
        "### Ans To the Q8:\n",
        "Filter the DataFrame to show only employees who work in the IT department. Print the result and show the total number of IT employees."
      ],
      "metadata": {
        "id": "oDz3sqUvNxVz"
      }
    },
    {
      "cell_type": "code",
      "source": [
        "IT=employees.loc[employees['dept'] =='IT']\n",
        "print(IT)\n",
        "\n",
        "print('total no of IT employees',len(IT))\n"
      ],
      "metadata": {
        "colab": {
          "base_uri": "https://localhost:8080/"
        },
        "id": "Z2AKBy4MN2zj",
        "outputId": "64be0157-ac8c-4fe2-d656-0e99ba24904d"
      },
      "execution_count": null,
      "outputs": [
        {
          "output_type": "stream",
          "name": "stdout",
          "text": [
            "   id  age  salary dept\n",
            "1   2   46   74131   IT\n",
            "3   4   25   71090   IT\n",
            "7   8   40   86101   IT\n",
            "total no of IT employees 3\n"
          ]
        }
      ]
    },
    {
      "cell_type": "markdown",
      "source": [
        "### Ans to Q9:\n",
        "Sort the DataFrame by salary in descending order and display the top 3 highest-paid employees along with their department and age."
      ],
      "metadata": {
        "id": "5u6xIFH0STQz"
      }
    },
    {
      "cell_type": "code",
      "source": [
        "desc_salaries=employees.sort_values(['salary'], ascending=False)\n",
        "print(desc_salaries)\n",
        "# desc_salaries.head(3)\n",
        "list_df = desc_salaries[['age', 'salary', 'dept']].head(3)\n",
        "print(list_df)"
      ],
      "metadata": {
        "colab": {
          "base_uri": "https://localhost:8080/"
        },
        "id": "qoY7xZACSX7Z",
        "outputId": "5f83e069-ccf3-4b93-a9ca-b9cefbbcd33b"
      },
      "execution_count": null,
      "outputs": [
        {
          "output_type": "stream",
          "name": "stdout",
          "text": [
            "   id  age  salary     dept\n",
            "6   7   36   89735  Finance\n",
            "7   8   40   86101       IT\n",
            "0   1   56   77191       HR\n",
            "1   2   46   74131       IT\n",
            "3   4   25   71090       IT\n",
            "2   3   32   46023  Finance\n",
            "9  10   28   35311       HR\n",
            "8   9   28   32433    Sales\n",
            "4   5   38   31685       HR\n",
            "5   6   56   30769    Sales\n",
            "   age  salary     dept\n",
            "6   36   89735  Finance\n",
            "7   40   86101       IT\n",
            "0   56   77191       HR\n"
          ]
        }
      ]
    },
    {
      "cell_type": "markdown",
      "source": [
        "## Ans to Q10:\n",
        " Replace all salary values greater than 80000 with 80000 using loc. Then calculate and print the new average salary of all employees after replacement."
      ],
      "metadata": {
        "id": "jrTFirjfUw44"
      }
    },
    {
      "cell_type": "code",
      "source": [
        "changed_salaries = employees.copy()\n",
        "# print(employees)\n",
        "changed_salaries.loc[changed_salaries['salary'] > 80000, 'salary'] = 80000\n",
        "\n",
        "print(changed_salaries)\n",
        "\n",
        "mean_salary=changed_salaries['salary'].mean()\n",
        "print(mean_salary)\n"
      ],
      "metadata": {
        "colab": {
          "base_uri": "https://localhost:8080/"
        },
        "id": "PBFqcWeKUwf4",
        "outputId": "e7c456b7-68c2-4254-90b4-805309376e9f"
      },
      "execution_count": null,
      "outputs": [
        {
          "output_type": "stream",
          "name": "stdout",
          "text": [
            "   id  age  salary     dept\n",
            "0   1   56   77191       HR\n",
            "1   2   46   74131       IT\n",
            "2   3   32   46023  Finance\n",
            "3   4   25   71090       IT\n",
            "4   5   38   31685       HR\n",
            "5   6   56   30769    Sales\n",
            "6   7   36   80000  Finance\n",
            "7   8   40   80000       IT\n",
            "8   9   28   32433    Sales\n",
            "9  10   28   35311       HR\n",
            "55863.3\n"
          ]
        }
      ]
    }
  ]
}